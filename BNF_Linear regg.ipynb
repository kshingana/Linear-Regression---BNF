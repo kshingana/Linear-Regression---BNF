{
 "cells": [
  {
   "cell_type": "code",
   "execution_count": 1,
   "metadata": {},
   "outputs": [],
   "source": [
    "import pandas as pd\n",
    "import numpy as np\n",
    "import os\n",
    "import matplotlib.pyplot as plt\n",
    "import yfinance as yf"
   ]
  },
  {
   "cell_type": "code",
   "execution_count": 2,
   "metadata": {},
   "outputs": [
    {
     "data": {
      "text/plain": [
       "'C:\\\\Users\\\\Kauu\\\\OneDrive\\\\Projects\\\\BNF linear reg'"
      ]
     },
     "execution_count": 2,
     "metadata": {},
     "output_type": "execute_result"
    }
   ],
   "source": [
    "os.getcwd()"
   ]
  },
  {
   "cell_type": "code",
   "execution_count": 3,
   "metadata": {},
   "outputs": [],
   "source": [
    "os.chdir(\"C:\\\\Users\\\\Kauu\\\\OneDrive\\\\Projects\\\\BNF linear reg\")\n"
   ]
  },
  {
   "cell_type": "markdown",
   "metadata": {},
   "source": [
    " - Deep ITM Range : Strike <>3000\n",
    " - ITM Range : Strike <> 300\n",
    " - ATM Range : Strike <=> 69\n",
    " - OTM Range : Strike <> 300\n",
    " - Deep OTM Range : Strike <> 600\n",
    "\n",
    "\n",
    " - df Needed :\n",
    "     - CE Moneyness\n",
    "     - PE moneyness\n",
    "     - CE OI\n",
    "     - PE OI\n",
    "\n",
    " - Day wise Analysis on premium\n",
    "\n",
    " - Effect of sudden volume change \n",
    "\n"
   ]
  },
  {
   "attachments": {
    "image.png": {
     "image/png": "[encoded data removed]"
    }
   },
   "cell_type": "markdown",
   "metadata": {},
   "source": [
    "![image.png](attachment:image.png)"
   ]
  },
  {
   "cell_type": "code",
   "execution_count": 4,
   "metadata": {},
   "outputs": [],
   "source": [
    "INT_MKT = ['^GSPC','^DJI','^VIX','^N225']"
   ]
  },
  {
   "cell_type": "code",
   "execution_count": 5,
   "metadata": {},
   "outputs": [
    {
     "name": "stdout",
     "output_type": "stream",
     "text": [
      "[*********************100%***********************]  10 of 10 completed\n"
     ]
    },
    {
     "data": {
      "text/html": [
       "<div>\n",
       "<style scoped>\n",
       "    .dataframe tbody tr th:only-of-type {\n",
       "        vertical-align: middle;\n",
       "    }\n",
       "\n",
       "    .dataframe tbody tr th {\n",
       "        vertical-align: top;\n",
       "    }\n",
       "\n",
       "    .dataframe thead th {\n",
       "        text-align: right;\n",
       "    }\n",
       "</style>\n",
       "<table border=\"1\" class=\"dataframe\">\n",
       "  <thead>\n",
       "    <tr style=\"text-align: right;\">\n",
       "      <th></th>\n",
       "      <th>^BSESN</th>\n",
       "      <th>^DJI</th>\n",
       "      <th>^FTSE</th>\n",
       "      <th>^GSPC</th>\n",
       "      <th>^HSI</th>\n",
       "      <th>^N225</th>\n",
       "      <th>^NSEBANK</th>\n",
       "      <th>^RUT</th>\n",
       "      <th>^STI</th>\n",
       "      <th>^VIX</th>\n",
       "    </tr>\n",
       "    <tr>\n",
       "      <th>Date</th>\n",
       "      <th></th>\n",
       "      <th></th>\n",
       "      <th></th>\n",
       "      <th></th>\n",
       "      <th></th>\n",
       "      <th></th>\n",
       "      <th></th>\n",
       "      <th></th>\n",
       "      <th></th>\n",
       "      <th></th>\n",
       "    </tr>\n",
       "  </thead>\n",
       "  <tbody>\n",
       "    <tr>\n",
       "      <th>1999-12-31</th>\n",
       "      <td>NaN</td>\n",
       "      <td>11497.120117</td>\n",
       "      <td>NaN</td>\n",
       "      <td>1469.250000</td>\n",
       "      <td>NaN</td>\n",
       "      <td>NaN</td>\n",
       "      <td>NaN</td>\n",
       "      <td>504.750000</td>\n",
       "      <td>NaN</td>\n",
       "      <td>24.639999</td>\n",
       "    </tr>\n",
       "    <tr>\n",
       "      <th>2000-01-03</th>\n",
       "      <td>5375.109863</td>\n",
       "      <td>11357.509766</td>\n",
       "      <td>NaN</td>\n",
       "      <td>1455.219971</td>\n",
       "      <td>17369.630859</td>\n",
       "      <td>NaN</td>\n",
       "      <td>NaN</td>\n",
       "      <td>496.420013</td>\n",
       "      <td>2582.939941</td>\n",
       "      <td>24.209999</td>\n",
       "    </tr>\n",
       "    <tr>\n",
       "      <th>2000-01-04</th>\n",
       "      <td>5491.009766</td>\n",
       "      <td>10997.929688</td>\n",
       "      <td>6665.899902</td>\n",
       "      <td>1399.420044</td>\n",
       "      <td>17072.820312</td>\n",
       "      <td>19002.859375</td>\n",
       "      <td>NaN</td>\n",
       "      <td>478.380005</td>\n",
       "      <td>2530.149902</td>\n",
       "      <td>27.010000</td>\n",
       "    </tr>\n",
       "    <tr>\n",
       "      <th>2000-01-05</th>\n",
       "      <td>5357.000000</td>\n",
       "      <td>11122.650391</td>\n",
       "      <td>6535.899902</td>\n",
       "      <td>1402.109985</td>\n",
       "      <td>15846.719727</td>\n",
       "      <td>18542.550781</td>\n",
       "      <td>NaN</td>\n",
       "      <td>478.829987</td>\n",
       "      <td>2391.030029</td>\n",
       "      <td>26.410000</td>\n",
       "    </tr>\n",
       "    <tr>\n",
       "      <th>2000-01-06</th>\n",
       "      <td>5421.529785</td>\n",
       "      <td>11253.259766</td>\n",
       "      <td>6447.200195</td>\n",
       "      <td>1403.449951</td>\n",
       "      <td>15153.230469</td>\n",
       "      <td>18168.269531</td>\n",
       "      <td>NaN</td>\n",
       "      <td>475.339996</td>\n",
       "      <td>2359.209961</td>\n",
       "      <td>25.730000</td>\n",
       "    </tr>\n",
       "  </tbody>\n",
       "</table>\n",
       "</div>"
      ],
      "text/plain": [
       "                 ^BSESN          ^DJI        ^FTSE        ^GSPC          ^HSI  \\\n",
       "Date                                                                            \n",
       "1999-12-31          NaN  11497.120117          NaN  1469.250000           NaN   \n",
       "2000-01-03  5375.109863  11357.509766          NaN  1455.219971  17369.630859   \n",
       "2000-01-04  5491.009766  10997.929688  6665.899902  1399.420044  17072.820312   \n",
       "2000-01-05  5357.000000  11122.650391  6535.899902  1402.109985  15846.719727   \n",
       "2000-01-06  5421.529785  11253.259766  6447.200195  1403.449951  15153.230469   \n",
       "\n",
       "                   ^N225  ^NSEBANK        ^RUT         ^STI       ^VIX  \n",
       "Date                                                                    \n",
       "1999-12-31           NaN       NaN  504.750000          NaN  24.639999  \n",
       "2000-01-03           NaN       NaN  496.420013  2582.939941  24.209999  \n",
       "2000-01-04  19002.859375       NaN  478.380005  2530.149902  27.010000  \n",
       "2000-01-05  18542.550781       NaN  478.829987  2391.030029  26.410000  \n",
       "2000-01-06  18168.269531       NaN  475.339996  2359.209961  25.730000  "
      ]
     },
     "execution_count": 5,
     "metadata": {},
     "output_type": "execute_result"
    }
   ],
   "source": [
    "int_mkt = yf.download(\"^NSEBANK ^GSPC ^DJI  ^VIX ^N225 ^HSI ^STI ^BSESN ^FTSE ^RUT \", start=\"2000-01-01\", end=\"2021-06-09\",group_by='column',progress=True)\n",
    "int_mkt = int_mkt[\"Adj Close\"]\n",
    "int_mkt.head()"
   ]
  },
  {
   "cell_type": "code",
   "execution_count": 6,
   "metadata": {},
   "outputs": [
    {
     "name": "stderr",
     "output_type": "stream",
     "text": [
      "c:\\users\\kauu\\appdata\\local\\programs\\python\\python37\\lib\\site-packages\\ipykernel_launcher.py:2: SettingWithCopyWarning: \n",
      "A value is trying to be set on a copy of a slice from a DataFrame\n",
      "\n",
      "See the caveats in the documentation: https://pandas.pydata.org/pandas-docs/stable/user_guide/indexing.html#returning-a-view-versus-a-copy\n",
      "  \n"
     ]
    },
    {
     "data": {
      "text/html": [
       "<div>\n",
       "<style scoped>\n",
       "    .dataframe tbody tr th:only-of-type {\n",
       "        vertical-align: middle;\n",
       "    }\n",
       "\n",
       "    .dataframe tbody tr th {\n",
       "        vertical-align: top;\n",
       "    }\n",
       "\n",
       "    .dataframe thead th {\n",
       "        text-align: right;\n",
       "    }\n",
       "</style>\n",
       "<table border=\"1\" class=\"dataframe\">\n",
       "  <thead>\n",
       "    <tr style=\"text-align: right;\">\n",
       "      <th></th>\n",
       "      <th>^DJI</th>\n",
       "      <th>^NSEBANK</th>\n",
       "    </tr>\n",
       "    <tr>\n",
       "      <th>Date</th>\n",
       "      <th></th>\n",
       "      <th></th>\n",
       "    </tr>\n",
       "  </thead>\n",
       "  <tbody>\n",
       "    <tr>\n",
       "      <th>2007-09-17</th>\n",
       "      <td>13403.419922</td>\n",
       "      <td>6897.100098</td>\n",
       "    </tr>\n",
       "    <tr>\n",
       "      <th>2007-09-18</th>\n",
       "      <td>13739.389648</td>\n",
       "      <td>7059.649902</td>\n",
       "    </tr>\n",
       "    <tr>\n",
       "      <th>2007-09-19</th>\n",
       "      <td>13815.559570</td>\n",
       "      <td>7401.850098</td>\n",
       "    </tr>\n",
       "    <tr>\n",
       "      <th>2007-09-20</th>\n",
       "      <td>13766.700195</td>\n",
       "      <td>7390.149902</td>\n",
       "    </tr>\n",
       "    <tr>\n",
       "      <th>2007-09-21</th>\n",
       "      <td>13820.190430</td>\n",
       "      <td>7464.500000</td>\n",
       "    </tr>\n",
       "  </tbody>\n",
       "</table>\n",
       "</div>"
      ],
      "text/plain": [
       "                    ^DJI     ^NSEBANK\n",
       "Date                                 \n",
       "2007-09-17  13403.419922  6897.100098\n",
       "2007-09-18  13739.389648  7059.649902\n",
       "2007-09-19  13815.559570  7401.850098\n",
       "2007-09-20  13766.700195  7390.149902\n",
       "2007-09-21  13820.190430  7464.500000"
      ]
     },
     "execution_count": 6,
     "metadata": {},
     "output_type": "execute_result"
    }
   ],
   "source": [
    "bnf_dj = int_mkt[[\"^DJI\",\"^NSEBANK\"]]\n",
    "bnf_dj.dropna(inplace=True)\n",
    "bnf_dj.head()"
   ]
  },
  {
   "cell_type": "code",
   "execution_count": 7,
   "metadata": {},
   "outputs": [
    {
     "name": "stderr",
     "output_type": "stream",
     "text": [
      "c:\\users\\kauu\\appdata\\local\\programs\\python\\python37\\lib\\site-packages\\ipykernel_launcher.py:1: SettingWithCopyWarning: \n",
      "A value is trying to be set on a copy of a slice from a DataFrame.\n",
      "Try using .loc[row_indexer,col_indexer] = value instead\n",
      "\n",
      "See the caveats in the documentation: https://pandas.pydata.org/pandas-docs/stable/user_guide/indexing.html#returning-a-view-versus-a-copy\n",
      "  \"\"\"Entry point for launching an IPython kernel.\n"
     ]
    }
   ],
   "source": [
    "bnf_dj[\"BNF_adjusted\"] = np.NAN"
   ]
  },
  {
   "cell_type": "code",
   "execution_count": 8,
   "metadata": {},
   "outputs": [
    {
     "name": "stderr",
     "output_type": "stream",
     "text": [
      "c:\\users\\kauu\\appdata\\local\\programs\\python\\python37\\lib\\site-packages\\ipykernel_launcher.py:2: SettingWithCopyWarning: \n",
      "A value is trying to be set on a copy of a slice from a DataFrame\n",
      "\n",
      "See the caveats in the documentation: https://pandas.pydata.org/pandas-docs/stable/user_guide/indexing.html#returning-a-view-versus-a-copy\n",
      "  \n"
     ]
    }
   ],
   "source": [
    "for i in range(1,(len(bnf_dj))):\n",
    "    bnf_dj[\"BNF_adjusted\"].iloc[i] = bnf_dj[\"^NSEBANK\"].iloc[i-1]"
   ]
  },
  {
   "cell_type": "code",
   "execution_count": 9,
   "metadata": {},
   "outputs": [
    {
     "data": {
      "text/html": [
       "<div>\n",
       "<style scoped>\n",
       "    .dataframe tbody tr th:only-of-type {\n",
       "        vertical-align: middle;\n",
       "    }\n",
       "\n",
       "    .dataframe tbody tr th {\n",
       "        vertical-align: top;\n",
       "    }\n",
       "\n",
       "    .dataframe thead th {\n",
       "        text-align: right;\n",
       "    }\n",
       "</style>\n",
       "<table border=\"1\" class=\"dataframe\">\n",
       "  <thead>\n",
       "    <tr style=\"text-align: right;\">\n",
       "      <th></th>\n",
       "      <th>^DJI</th>\n",
       "      <th>^NSEBANK</th>\n",
       "      <th>BNF_adjusted</th>\n",
       "    </tr>\n",
       "    <tr>\n",
       "      <th>Date</th>\n",
       "      <th></th>\n",
       "      <th></th>\n",
       "      <th></th>\n",
       "    </tr>\n",
       "  </thead>\n",
       "  <tbody>\n",
       "    <tr>\n",
       "      <th>2007-09-17</th>\n",
       "      <td>13403.419922</td>\n",
       "      <td>6897.100098</td>\n",
       "      <td>NaN</td>\n",
       "    </tr>\n",
       "    <tr>\n",
       "      <th>2007-09-18</th>\n",
       "      <td>13739.389648</td>\n",
       "      <td>7059.649902</td>\n",
       "      <td>6897.100098</td>\n",
       "    </tr>\n",
       "    <tr>\n",
       "      <th>2007-09-19</th>\n",
       "      <td>13815.559570</td>\n",
       "      <td>7401.850098</td>\n",
       "      <td>7059.649902</td>\n",
       "    </tr>\n",
       "    <tr>\n",
       "      <th>2007-09-20</th>\n",
       "      <td>13766.700195</td>\n",
       "      <td>7390.149902</td>\n",
       "      <td>7401.850098</td>\n",
       "    </tr>\n",
       "    <tr>\n",
       "      <th>2007-09-21</th>\n",
       "      <td>13820.190430</td>\n",
       "      <td>7464.500000</td>\n",
       "      <td>7390.149902</td>\n",
       "    </tr>\n",
       "  </tbody>\n",
       "</table>\n",
       "</div>"
      ],
      "text/plain": [
       "                    ^DJI     ^NSEBANK  BNF_adjusted\n",
       "Date                                               \n",
       "2007-09-17  13403.419922  6897.100098           NaN\n",
       "2007-09-18  13739.389648  7059.649902   6897.100098\n",
       "2007-09-19  13815.559570  7401.850098   7059.649902\n",
       "2007-09-20  13766.700195  7390.149902   7401.850098\n",
       "2007-09-21  13820.190430  7464.500000   7390.149902"
      ]
     },
     "execution_count": 9,
     "metadata": {},
     "output_type": "execute_result"
    }
   ],
   "source": [
    "bnf_dj.head()"
   ]
  },
  {
   "cell_type": "code",
   "execution_count": 10,
   "metadata": {},
   "outputs": [],
   "source": [
    "import matplotlib.pyplot as plt\n",
    "import numpy as np\n",
    "from sklearn import datasets, linear_model\n",
    "import pandas as pd\n"
   ]
  },
  {
   "cell_type": "code",
   "execution_count": 11,
   "metadata": {},
   "outputs": [
    {
     "data": {
      "text/html": [
       "<div>\n",
       "<style scoped>\n",
       "    .dataframe tbody tr th:only-of-type {\n",
       "        vertical-align: middle;\n",
       "    }\n",
       "\n",
       "    .dataframe tbody tr th {\n",
       "        vertical-align: top;\n",
       "    }\n",
       "\n",
       "    .dataframe thead th {\n",
       "        text-align: right;\n",
       "    }\n",
       "</style>\n",
       "<table border=\"1\" class=\"dataframe\">\n",
       "  <thead>\n",
       "    <tr style=\"text-align: right;\">\n",
       "      <th></th>\n",
       "      <th>^DJI</th>\n",
       "      <th>^NSEBANK</th>\n",
       "      <th>BNF_adjusted</th>\n",
       "    </tr>\n",
       "    <tr>\n",
       "      <th>Date</th>\n",
       "      <th></th>\n",
       "      <th></th>\n",
       "      <th></th>\n",
       "    </tr>\n",
       "  </thead>\n",
       "  <tbody>\n",
       "    <tr>\n",
       "      <th>2007-09-19</th>\n",
       "      <td>13815.559570</td>\n",
       "      <td>7401.850098</td>\n",
       "      <td>7059.649902</td>\n",
       "    </tr>\n",
       "    <tr>\n",
       "      <th>2007-09-20</th>\n",
       "      <td>13766.700195</td>\n",
       "      <td>7390.149902</td>\n",
       "      <td>7401.850098</td>\n",
       "    </tr>\n",
       "    <tr>\n",
       "      <th>2007-09-21</th>\n",
       "      <td>13820.190430</td>\n",
       "      <td>7464.500000</td>\n",
       "      <td>7390.149902</td>\n",
       "    </tr>\n",
       "    <tr>\n",
       "      <th>2007-09-24</th>\n",
       "      <td>13759.059570</td>\n",
       "      <td>7650.899902</td>\n",
       "      <td>7464.500000</td>\n",
       "    </tr>\n",
       "    <tr>\n",
       "      <th>2007-09-25</th>\n",
       "      <td>13778.650391</td>\n",
       "      <td>7629.149902</td>\n",
       "      <td>7650.899902</td>\n",
       "    </tr>\n",
       "    <tr>\n",
       "      <th>...</th>\n",
       "      <td>...</td>\n",
       "      <td>...</td>\n",
       "      <td>...</td>\n",
       "    </tr>\n",
       "    <tr>\n",
       "      <th>2021-06-02</th>\n",
       "      <td>34600.378906</td>\n",
       "      <td>35373.750000</td>\n",
       "      <td>35337.199219</td>\n",
       "    </tr>\n",
       "    <tr>\n",
       "      <th>2021-06-03</th>\n",
       "      <td>34577.039062</td>\n",
       "      <td>35649.000000</td>\n",
       "      <td>35373.750000</td>\n",
       "    </tr>\n",
       "    <tr>\n",
       "      <th>2021-06-04</th>\n",
       "      <td>34756.390625</td>\n",
       "      <td>35291.648438</td>\n",
       "      <td>35649.000000</td>\n",
       "    </tr>\n",
       "    <tr>\n",
       "      <th>2021-06-07</th>\n",
       "      <td>34630.238281</td>\n",
       "      <td>35443.648438</td>\n",
       "      <td>35291.648438</td>\n",
       "    </tr>\n",
       "    <tr>\n",
       "      <th>2021-06-08</th>\n",
       "      <td>34599.820312</td>\n",
       "      <td>35085.300781</td>\n",
       "      <td>35443.648438</td>\n",
       "    </tr>\n",
       "  </tbody>\n",
       "</table>\n",
       "<p>3008 rows × 3 columns</p>\n",
       "</div>"
      ],
      "text/plain": [
       "                    ^DJI      ^NSEBANK  BNF_adjusted\n",
       "Date                                                \n",
       "2007-09-19  13815.559570   7401.850098   7059.649902\n",
       "2007-09-20  13766.700195   7390.149902   7401.850098\n",
       "2007-09-21  13820.190430   7464.500000   7390.149902\n",
       "2007-09-24  13759.059570   7650.899902   7464.500000\n",
       "2007-09-25  13778.650391   7629.149902   7650.899902\n",
       "...                  ...           ...           ...\n",
       "2021-06-02  34600.378906  35373.750000  35337.199219\n",
       "2021-06-03  34577.039062  35649.000000  35373.750000\n",
       "2021-06-04  34756.390625  35291.648438  35649.000000\n",
       "2021-06-07  34630.238281  35443.648438  35291.648438\n",
       "2021-06-08  34599.820312  35085.300781  35443.648438\n",
       "\n",
       "[3008 rows x 3 columns]"
      ]
     },
     "execution_count": 11,
     "metadata": {},
     "output_type": "execute_result"
    }
   ],
   "source": [
    "bnf_dj.drop(bnf_dj.index[[0,1]])"
   ]
  },
  {
   "cell_type": "code",
   "execution_count": 12,
   "metadata": {},
   "outputs": [],
   "source": [
    "X = np.array(bnf_dj[[\"^DJI\"]])"
   ]
  },
  {
   "cell_type": "code",
   "execution_count": 13,
   "metadata": {},
   "outputs": [],
   "source": [
    "X=X.reshape(len(X),1)"
   ]
  },
  {
   "cell_type": "code",
   "execution_count": 14,
   "metadata": {},
   "outputs": [],
   "source": [
    "y = bnf_dj[\"BNF_adjusted\"]"
   ]
  },
  {
   "cell_type": "code",
   "execution_count": 16,
   "metadata": {},
   "outputs": [],
   "source": [
    "from sklearn.model_selection import train_test_split\n"
   ]
  },
  {
   "cell_type": "code",
   "execution_count": 17,
   "metadata": {},
   "outputs": [],
   "source": [
    " X_train, X_test, y_train, y_test = train_test_split(X, y, test_size=0.4)"
   ]
  },
  {
   "cell_type": "code",
   "execution_count": 18,
   "metadata": {},
   "outputs": [],
   "source": [
    "regr = linear_model.LinearRegression()"
   ]
  },
  {
   "cell_type": "code",
   "execution_count": 19,
   "metadata": {},
   "outputs": [
    {
     "data": {
      "text/plain": [
       "LinearRegression()"
      ]
     },
     "execution_count": 19,
     "metadata": {},
     "output_type": "execute_result"
    }
   ],
   "source": [
    "regr.fit(X_train, y_train)"
   ]
  },
  {
   "cell_type": "code",
   "execution_count": 20,
   "metadata": {},
   "outputs": [
    {
     "data": {
      "text/plain": [
       "array([25608.09354315,  6648.82828156, 11476.0587765 , ...,\n",
       "        9109.1856482 ,  9981.63371638, 11306.39622758])"
      ]
     },
     "execution_count": 20,
     "metadata": {},
     "output_type": "execute_result"
    }
   ],
   "source": [
    "pred =  regr.predict(X_test)\n",
    "pred"
   ]
  },
  {
   "cell_type": "code",
   "execution_count": 23,
   "metadata": {},
   "outputs": [
    {
     "data": {
      "text/plain": [
       "[<matplotlib.lines.Line2D at 0x2497f524688>]"
      ]
     },
     "execution_count": 23,
     "metadata": {},
     "output_type": "execute_result"
    },
    {
     "data": {
      "image/png": "[encoded data removed]",
      "text/plain": [
       "<Figure size 432x288 with 1 Axes>"
      ]
     },
     "metadata": {
      "needs_background": "light"
     },
     "output_type": "display_data"
    }
   ],
   "source": [
    "plt.plot(y_test,pred)"
   ]
  },
  {
   "cell_type": "code",
   "execution_count": null,
   "metadata": {},
   "outputs": [],
   "source": []
  },
  {
   "cell_type": "code",
   "execution_count": null,
   "metadata": {},
   "outputs": [],
   "source": []
  }
 ],
 "metadata": {
  "kernelspec": {
   "display_name": "Python 3",
   "language": "python",
   "name": "python3"
  },
  "language_info": {
   "codemirror_mode": {
    "name": "ipython",
    "version": 3
   },
   "file_extension": ".py",
   "mimetype": "text/x-python",
   "name": "python",
   "nbconvert_exporter": "python",
   "pygments_lexer": "ipython3",
   "version": "3.8.8"
  }
 },
 "nbformat": 4,
 "nbformat_minor": 4
}
